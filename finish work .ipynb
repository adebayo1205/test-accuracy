{
 "cells": [
  {
   "cell_type": "code",
   "execution_count": 4,
   "metadata": {},
   "outputs": [],
   "source": [
    "import numpy as np\n",
    "import tensorflow as TF"
   ]
  },
  {
   "cell_type": "code",
   "execution_count": 2,
   "metadata": {},
   "outputs": [],
   "source": [
    "npz=np.load('Audiobooks_data_train.npz')\n",
    "\n",
    "train_inputs=npz['inputs'].astype(np.float)\n",
    "train_targets=npz['targets'].astype(np.int)\n",
    "\n",
    "npz=np.load('Audiobooks_data_validation.npz')\n",
    "validation_inputs,validation_targets=npz['inputs'].astype(np.float),npz['targets'].astype(np.int)\n",
    "\n",
    "npz=np.load('Audiobooks_data_test.npz')\n",
    "test_inputs,test_targets=npz['inputs'].astype(np.float),npz['targets'].astype(np.int)"
   ]
  },
  {
   "cell_type": "code",
   "execution_count": 6,
   "metadata": {},
   "outputs": [
    {
     "name": "stdout",
     "output_type": "stream",
     "text": [
      "Train on 3579 samples, validate on 447 samples\n",
      "Epoch 1/100\n",
      "3579/3579 - 0s - loss: 0.6073 - acc: 0.6549 - val_loss: 0.5174 - val_acc: 0.7472\n",
      "Epoch 2/100\n",
      "3579/3579 - 0s - loss: 0.4833 - acc: 0.7700 - val_loss: 0.4347 - val_acc: 0.7875\n",
      "Epoch 3/100\n",
      "3579/3579 - 0s - loss: 0.4251 - acc: 0.7890 - val_loss: 0.3943 - val_acc: 0.7897\n",
      "Epoch 4/100\n",
      "3579/3579 - 0s - loss: 0.3945 - acc: 0.8016 - val_loss: 0.3767 - val_acc: 0.8098\n",
      "Epoch 5/100\n",
      "3579/3579 - 0s - loss: 0.3777 - acc: 0.8078 - val_loss: 0.3661 - val_acc: 0.7763\n",
      "Epoch 6/100\n",
      "3579/3579 - 0s - loss: 0.3643 - acc: 0.8108 - val_loss: 0.3522 - val_acc: 0.8054\n",
      "Epoch 7/100\n",
      "3579/3579 - 0s - loss: 0.3551 - acc: 0.8145 - val_loss: 0.3494 - val_acc: 0.8054\n",
      "Epoch 8/100\n",
      "3579/3579 - 0s - loss: 0.3491 - acc: 0.8178 - val_loss: 0.3386 - val_acc: 0.8054\n",
      "Epoch 9/100\n",
      "3579/3579 - 0s - loss: 0.3440 - acc: 0.8226 - val_loss: 0.3398 - val_acc: 0.8233\n",
      "Epoch 10/100\n",
      "3579/3579 - 0s - loss: 0.3405 - acc: 0.8192 - val_loss: 0.3379 - val_acc: 0.8188\n",
      "Epoch 11/100\n",
      "3579/3579 - 0s - loss: 0.3404 - acc: 0.8139 - val_loss: 0.3415 - val_acc: 0.8054\n",
      "Epoch 12/100\n",
      "3579/3579 - 0s - loss: 0.3342 - acc: 0.8217 - val_loss: 0.3279 - val_acc: 0.8277\n",
      "Epoch 13/100\n",
      "3579/3579 - 0s - loss: 0.3309 - acc: 0.8251 - val_loss: 0.3267 - val_acc: 0.8322\n",
      "Epoch 14/100\n",
      "3579/3579 - 0s - loss: 0.3286 - acc: 0.8251 - val_loss: 0.3230 - val_acc: 0.8143\n",
      "Epoch 15/100\n",
      "3579/3579 - 0s - loss: 0.3296 - acc: 0.8203 - val_loss: 0.3248 - val_acc: 0.8300\n",
      "Epoch 16/100\n",
      "3579/3579 - 0s - loss: 0.3240 - acc: 0.8282 - val_loss: 0.3340 - val_acc: 0.8121\n"
     ]
    },
    {
     "data": {
      "text/plain": [
       "<tensorflow.python.keras.callbacks.History at 0x29810d180c8>"
      ]
     },
     "execution_count": 6,
     "metadata": {},
     "output_type": "execute_result"
    }
   ],
   "source": [
    "inputs_size=10\n",
    "outputs_size=2\n",
    "hidden_layer_size=50\n",
    "\n",
    "model=TF.keras.Sequential([\n",
    "    TF.keras.layers.Dense(hidden_layer_size,activation='relu'),\n",
    "    TF.keras.layers.Dense(hidden_layer_size,activation='relu'),\n",
    "    TF.keras.layers.Dense(outputs_size,activation='softmax')\n",
    "    ])\n",
    "\n",
    "model.compile(optimizer='Adam',loss='sparse_categorical_crossentropy',metrics=['accuracy'])\n",
    "\n",
    "batch_size=100\n",
    "\n",
    "max_epochs=100\n",
    "\n",
    "early_stopping=TF.keras.callbacks.EarlyStopping(patience=2)\n",
    "\n",
    "model.fit(train_inputs,\n",
    "         train_targets,\n",
    "         batch_size=batch_size,\n",
    "         epochs=max_epochs,\n",
    "          callbacks=[early_stopping],\n",
    "         validation_data=(validation_inputs,validation_targets),\n",
    "         verbose=2)\n",
    "\n"
   ]
  },
  {
   "cell_type": "code",
   "execution_count": 7,
   "metadata": {},
   "outputs": [
    {
     "name": "stdout",
     "output_type": "stream",
     "text": [
      "448/448 [==============================] - 0s 21us/sample - loss: 0.3374 - acc: 0.8080\n"
     ]
    }
   ],
   "source": [
    "test_loss,test_accuracy=model.evaluate(test_inputs,test_targets)"
   ]
  },
  {
   "cell_type": "code",
   "execution_count": 8,
   "metadata": {},
   "outputs": [
    {
     "name": "stdout",
     "output_type": "stream",
     "text": [
      "\n",
      "Test loss:0.337434.Test accuracy:80.803573%\n"
     ]
    }
   ],
   "source": [
    "print('\\nTest loss:{0:2f}.Test accuracy:{1:2f}%'.format(test_loss,test_accuracy*100.))"
   ]
  },
  {
   "cell_type": "code",
   "execution_count": null,
   "metadata": {},
   "outputs": [],
   "source": []
  }
 ],
 "metadata": {
  "kernelspec": {
   "display_name": "Python 3",
   "language": "python",
   "name": "python3"
  },
  "language_info": {
   "codemirror_mode": {
    "name": "ipython",
    "version": 3
   },
   "file_extension": ".py",
   "mimetype": "text/x-python",
   "name": "python",
   "nbconvert_exporter": "python",
   "pygments_lexer": "ipython3",
   "version": "3.7.6"
  }
 },
 "nbformat": 4,
 "nbformat_minor": 4
}
